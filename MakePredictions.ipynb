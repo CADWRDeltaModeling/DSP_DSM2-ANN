{
 "cells": [
  {
   "cell_type": "code",
   "execution_count": 14,
   "metadata": {
    "collapsed": true,
    "ExecuteTime": {
     "end_time": "2023-06-27T18:54:32.146680300Z",
     "start_time": "2023-06-27T18:54:32.134679300Z"
    }
   },
   "outputs": [],
   "source": [
    "import os\n",
    "import pickle\n",
    "import sys\n",
    "import time\n",
    "\n",
    "import matplotlib.pyplot as plt\n",
    "import numpy as np\n",
    "import pandas as pd\n",
    "import tensorflow as tf\n",
    "from sklearn.metrics import r2_score\n",
    "from tensorflow import keras\n",
    "from tensorflow.keras import layers\n",
    "from tqdm.auto import tqdm, trange\n",
    "\n",
    "tqdm.pandas()\n",
    "\n",
    "from collections import defaultdict\n",
    "\n",
    "local_root_path = \".\"\n",
    "\n",
    "sys.path.append(local_root_path)\n",
    "import annutils\n",
    "\n",
    "import joblib"
   ]
  },
  {
   "cell_type": "code",
   "execution_count": 15,
   "outputs": [],
   "source": [
    "\n",
    "\n",
    "# find all the .xlsx files in the local_root_path dir\n",
    "excel_files = [f for f in os.listdir(local_root_path) if f.endswith(\".xlsx\") and not f.startswith(\"~$\")]\n",
    "\n"
   ],
   "metadata": {
    "collapsed": false,
    "ExecuteTime": {
     "end_time": "2023-06-27T18:54:37.535209100Z",
     "start_time": "2023-06-27T18:54:37.514451800Z"
    }
   }
  },
  {
   "cell_type": "markdown",
   "source": [
    "In order to turn the excel sheets into inputs we can predict on we need to setup"
   ],
   "metadata": {
    "collapsed": false
   }
  },
  {
   "cell_type": "code",
   "execution_count": 16,
   "outputs": [],
   "source": [
    "num_sheets = 9\n",
    "\n",
    "observed_stations_ordered_by_median = ['RSMKL008', 'RSAN032', 'RSAN037', 'RSAC092', 'SLTRM004', 'ROLD024',\n",
    "                                       'CHVCT000', 'RSAN018', 'CHSWP003', 'CHDMC006', 'SLDUT007', 'RSAN072',\n",
    "                                       'OLD_MID', 'RSAN058', 'ROLD059', 'RSAN007', 'RSAC081', 'SLMZU025',\n",
    "                                       'RSAC075', 'SLMZU011', 'SLSUS012', 'SLCBN002', 'RSAC064']\n",
    "\n",
    "output_stations = ['CHDMC006-CVP INTAKE', 'CHSWP003-CCFB_INTAKE', 'CHVCT000-VICTORIA INTAKE',\n",
    "                   'OLD_MID-OLD RIVER NEAR MIDDLE RIVER', 'ROLD024-OLD RIVER AT BACON ISLAND',\n",
    "                   'ROLD059-OLD RIVER AT TRACY BLVD', 'RSAC064-SACRAMENTO R AT PORT CHICAGO',\n",
    "                   'RSAC075-MALLARDISLAND', 'RSAC081-COLLINSVILLE', 'RSAC092-EMMATON',\n",
    "                   'RSAC101-SACRAMENTO R AT RIO VISTA', 'RSAN007-ANTIOCH', 'RSAN018-JERSEYPOINT',\n",
    "                   'RSAN032-SACRAMENTO R AT SAN ANDREAS LANDING', 'RSAN037-SAN JOAQUIN R AT PRISONERS POINT',\n",
    "                   'RSAN058-ROUGH AND READY ISLAND', 'RSAN072-SAN JOAQUIN R AT BRANDT BRIDGE',\n",
    "                   'RSMKL008-S FORK MOKELUMNE AT TERMINOUS', 'SLCBN002-CHADBOURNE SLOUGH NR SUNRISE DUCK CLUB',\n",
    "                   'SLDUT007-DUTCH SLOUGH', 'SLMZU011-MONTEZUMA SL AT BELDONS LANDING',\n",
    "                   'SLMZU025-MONTEZUMA SL AT NATIONAL STEEL', 'SLSUS012-SUISUN SL NEAR VOLANTI SL',\n",
    "                   'SLTRM004-THREE MILE SLOUGH NR SAN JOAQUIN R', 'SSS-STEAMBOAT SL', 'CCW-MIDDLE RIVER INTAKE',\n",
    "                   'OH4-OLD R @ HWY 4', 'SLRCK005-CCWD_Rock', 'MRU-MIDDLE RIVER AT UNDINE ROAD', 'HLL-HOLLAND TRACT',\n",
    "                   'BET-PIPER SLOUGH @ BETHEL TRACT', 'GES-SACRAMENTO R BELOW GEORGIANA SLOUGH',\n",
    "                   'NMR: N FORK MOKELUMNE R NEAR WALNUT GROVE', 'IBS-CORDELIA SLOUGH @ IBIS CLUB',\n",
    "                   'GYS-GOODYEAR SLOUGH AT MORROW ISLAND CLUB', 'BKS-SLBAR002-North Bay Aqueduct/Barker Sl']\n",
    "\n",
    "output_stations, name_mapping = annutils.read_output_stations(output_stations, observed_stations_ordered_by_median)"
   ],
   "metadata": {
    "collapsed": false,
    "ExecuteTime": {
     "end_time": "2023-06-27T18:54:40.283853600Z",
     "start_time": "2023-06-27T18:54:40.275836Z"
    }
   }
  },
  {
   "cell_type": "code",
   "execution_count": 17,
   "outputs": [],
   "source": [
    "def mse_loss_masked(y_true, y_pred):\n",
    "    squared_diff = tf.reduce_sum(tf.math.squared_difference(y_pred[y_true > 0], y_true[y_true > 0]))\n",
    "    return squared_diff / (tf.reduce_sum(tf.cast(y_true > 0, tf.float32)) + 0.01)"
   ],
   "metadata": {
    "collapsed": false,
    "ExecuteTime": {
     "end_time": "2023-06-27T18:54:46.785824200Z",
     "start_time": "2023-06-27T18:54:46.781823Z"
    }
   }
  },
  {
   "cell_type": "code",
   "execution_count": 18,
   "outputs": [],
   "source": [
    "def predict(location, df_input, output_columns):\n",
    "    model=keras.models.load_model('%s.h5'%location,custom_objects={\"mse_loss_masked\": mse_loss_masked})\n",
    "    xscaler,yscaler=joblib.load('%s_xyscaler.dump'%location)\n",
    "    return predict_with_model(model, xscaler, yscaler, df_input, output_columns)\n",
    "\n",
    "def predict_with_model(model, xscaler, yscaler, df_input, output_columns):\n",
    "    dfx = pd.DataFrame(xscaler.transform(df_input), df_input.index, columns=df_input.columns)\n",
    "\n",
    "    yyp=model.predict(dfx, verbose=True)\n",
    "    predicted_y = yscaler.inverse_transform(yyp)\n",
    "    return pd.DataFrame(predicted_y, index=df_input.index, columns=output_columns)"
   ],
   "metadata": {
    "collapsed": false,
    "ExecuteTime": {
     "end_time": "2023-06-27T18:54:50.822869600Z",
     "start_time": "2023-06-27T18:54:50.817511900Z"
    }
   }
  },
  {
   "cell_type": "code",
   "execution_count": 20,
   "outputs": [
    {
     "data": {
      "text/plain": "  0%|          | 0/1 [00:00<?, ?it/s]",
      "application/vnd.jupyter.widget-view+json": {
       "version_major": 2,
       "version_minor": 0,
       "model_id": "31a2a497f1fb44bfb41ded6192606e89"
      }
     },
     "metadata": {},
     "output_type": "display_data"
    },
    {
     "name": "stdout",
     "output_type": "stream",
     "text": [
      "Experiment: colab\n"
     ]
    },
    {
     "data": {
      "text/plain": "  0%|          | 0/14 [00:00<?, ?it/s]",
      "application/vnd.jupyter.widget-view+json": {
       "version_major": 2,
       "version_minor": 0,
       "model_id": "155515042cd641e68d95d92e22455c2b"
      }
     },
     "metadata": {},
     "output_type": "display_data"
    },
    {
     "name": "stdout",
     "output_type": "stream",
     "text": [
      "Data file: dsm2_ann_inputs_base.xlsx\n"
     ]
    },
    {
     "data": {
      "text/plain": "  0%|          | 0/5 [00:00<?, ?it/s]",
      "application/vnd.jupyter.widget-view+json": {
       "version_major": 2,
       "version_minor": 0,
       "model_id": "42acb0e3e72348e1874da6d39c33a7b2"
      }
     },
     "metadata": {},
     "output_type": "display_data"
    },
    {
     "name": "stdout",
     "output_type": "stream",
     "text": [
      "Model file: mtl_i118_g8_f_o1.h5\n",
      "Location: .\\Experiments\\colab\\models\\mtl_i118_g8_f_o1\n",
      "Xscaler Min[0]: 3519.98323631286\n",
      "Xscaler Max[0]: 561182.0\n",
      "338/338 [==============================] - 1s 3ms/step\n",
      "Model file: mtl_i118_lstm8_f_o1.h5\n",
      "Location: .\\Experiments\\colab\\models\\mtl_i118_lstm8_f_o1\n",
      "Xscaler Min[0]: 3519.98323631286\n",
      "Xscaler Max[0]: 561182.0\n",
      "338/338 [==============================] - 1s 4ms/step\n",
      "Model file: mtl_i118_residual_gru_8_2.h5\n",
      "Location: .\\Experiments\\colab\\models\\mtl_i118_residual_gru_8_2\n",
      "Xscaler Min[0]: 3519.98323631286\n",
      "Xscaler Max[0]: 561182.0\n",
      "338/338 [==============================] - 1s 2ms/step\n",
      "Model file: mtl_i118_residual_lstm_8_2.h5\n",
      "Location: .\\Experiments\\colab\\models\\mtl_i118_residual_lstm_8_2\n",
      "Xscaler Min[0]: 3519.98323631286\n",
      "Xscaler Max[0]: 561182.0\n",
      "338/338 [==============================] - 1s 3ms/step\n",
      "Model file: mtl_i118_resnet_8_2.h5\n",
      "Location: .\\Experiments\\colab\\models\\mtl_i118_resnet_8_2\n",
      "Xscaler Min[0]: 3519.98323631286\n",
      "Xscaler Max[0]: 561182.0\n",
      "338/338 [==============================] - 1s 2ms/step\n",
      "Data file: dsm2_ann_inputs_dcc0.xlsx\n"
     ]
    },
    {
     "data": {
      "text/plain": "  0%|          | 0/5 [00:00<?, ?it/s]",
      "application/vnd.jupyter.widget-view+json": {
       "version_major": 2,
       "version_minor": 0,
       "model_id": "c8de8024236448289a4a634c48924599"
      }
     },
     "metadata": {},
     "output_type": "display_data"
    },
    {
     "name": "stdout",
     "output_type": "stream",
     "text": [
      "Model file: mtl_i118_g8_f_o1.h5\n",
      "Location: .\\Experiments\\colab\\models\\mtl_i118_g8_f_o1\n",
      "Xscaler Min[0]: 3519.98323631286\n",
      "Xscaler Max[0]: 561182.0\n",
      "338/338 [==============================] - 1s 3ms/step\n",
      "Model file: mtl_i118_lstm8_f_o1.h5\n",
      "Location: .\\Experiments\\colab\\models\\mtl_i118_lstm8_f_o1\n",
      "Xscaler Min[0]: 3519.98323631286\n",
      "Xscaler Max[0]: 561182.0\n",
      "338/338 [==============================] - 1s 4ms/step\n",
      "Model file: mtl_i118_residual_gru_8_2.h5\n",
      "Location: .\\Experiments\\colab\\models\\mtl_i118_residual_gru_8_2\n",
      "Xscaler Min[0]: 3519.98323631286\n",
      "Xscaler Max[0]: 561182.0\n",
      "338/338 [==============================] - 1s 2ms/step\n",
      "Model file: mtl_i118_residual_lstm_8_2.h5\n",
      "Location: .\\Experiments\\colab\\models\\mtl_i118_residual_lstm_8_2\n",
      "Xscaler Min[0]: 3519.98323631286\n",
      "Xscaler Max[0]: 561182.0\n",
      "338/338 [==============================] - 1s 2ms/step\n",
      "Model file: mtl_i118_resnet_8_2.h5\n",
      "Location: .\\Experiments\\colab\\models\\mtl_i118_resnet_8_2\n",
      "Xscaler Min[0]: 3519.98323631286\n",
      "Xscaler Max[0]: 561182.0\n",
      "338/338 [==============================] - 1s 2ms/step\n",
      "Data file: dsm2_ann_inputs_dcc1.xlsx\n"
     ]
    },
    {
     "data": {
      "text/plain": "  0%|          | 0/5 [00:00<?, ?it/s]",
      "application/vnd.jupyter.widget-view+json": {
       "version_major": 2,
       "version_minor": 0,
       "model_id": "a5fdac67097f4a39b594084af944cc72"
      }
     },
     "metadata": {},
     "output_type": "display_data"
    },
    {
     "name": "stdout",
     "output_type": "stream",
     "text": [
      "Model file: mtl_i118_g8_f_o1.h5\n",
      "Location: .\\Experiments\\colab\\models\\mtl_i118_g8_f_o1\n",
      "Xscaler Min[0]: 3519.98323631286\n",
      "Xscaler Max[0]: 561182.0\n",
      "338/338 [==============================] - 1s 3ms/step\n",
      "Model file: mtl_i118_lstm8_f_o1.h5\n",
      "Location: .\\Experiments\\colab\\models\\mtl_i118_lstm8_f_o1\n",
      "Xscaler Min[0]: 3519.98323631286\n",
      "Xscaler Max[0]: 561182.0\n",
      "338/338 [==============================] - 1s 3ms/step\n",
      "Model file: mtl_i118_residual_gru_8_2.h5\n",
      "Location: .\\Experiments\\colab\\models\\mtl_i118_residual_gru_8_2\n",
      "Xscaler Min[0]: 3519.98323631286\n",
      "Xscaler Max[0]: 561182.0\n",
      "338/338 [==============================] - 1s 2ms/step\n",
      "Model file: mtl_i118_residual_lstm_8_2.h5\n",
      "Location: .\\Experiments\\colab\\models\\mtl_i118_residual_lstm_8_2\n",
      "Xscaler Min[0]: 3519.98323631286\n",
      "Xscaler Max[0]: 561182.0\n",
      "338/338 [==============================] - 1s 3ms/step\n",
      "Model file: mtl_i118_resnet_8_2.h5\n",
      "Location: .\\Experiments\\colab\\models\\mtl_i118_resnet_8_2\n",
      "Xscaler Min[0]: 3519.98323631286\n",
      "Xscaler Max[0]: 561182.0\n",
      "338/338 [==============================] - 1s 2ms/step\n",
      "Data file: dsm2_ann_inputs_rsacminus15day.xlsx\n"
     ]
    },
    {
     "data": {
      "text/plain": "  0%|          | 0/5 [00:00<?, ?it/s]",
      "application/vnd.jupyter.widget-view+json": {
       "version_major": 2,
       "version_minor": 0,
       "model_id": "b643821f95af45d48b10b2529496895e"
      }
     },
     "metadata": {},
     "output_type": "display_data"
    },
    {
     "name": "stdout",
     "output_type": "stream",
     "text": [
      "Model file: mtl_i118_g8_f_o1.h5\n",
      "Location: .\\Experiments\\colab\\models\\mtl_i118_g8_f_o1\n",
      "Xscaler Min[0]: 3519.98323631286\n",
      "Xscaler Max[0]: 561182.0\n",
      "338/338 [==============================] - 1s 3ms/step\n",
      "Model file: mtl_i118_lstm8_f_o1.h5\n",
      "Location: .\\Experiments\\colab\\models\\mtl_i118_lstm8_f_o1\n",
      "Xscaler Min[0]: 3519.98323631286\n",
      "Xscaler Max[0]: 561182.0\n",
      "338/338 [==============================] - 1s 3ms/step\n",
      "Model file: mtl_i118_residual_gru_8_2.h5\n",
      "Location: .\\Experiments\\colab\\models\\mtl_i118_residual_gru_8_2\n",
      "Xscaler Min[0]: 3519.98323631286\n",
      "Xscaler Max[0]: 561182.0\n",
      "338/338 [==============================] - 1s 2ms/step\n",
      "Model file: mtl_i118_residual_lstm_8_2.h5\n",
      "Location: .\\Experiments\\colab\\models\\mtl_i118_residual_lstm_8_2\n",
      "Xscaler Min[0]: 3519.98323631286\n",
      "Xscaler Max[0]: 561182.0\n",
      "338/338 [==============================] - 1s 2ms/step\n",
      "Model file: mtl_i118_resnet_8_2.h5\n",
      "Location: .\\Experiments\\colab\\models\\mtl_i118_resnet_8_2\n",
      "Xscaler Min[0]: 3519.98323631286\n",
      "Xscaler Max[0]: 561182.0\n",
      "338/338 [==============================] - 1s 2ms/step\n",
      "Data file: dsm2_ann_inputs_rsacminus20pct.xlsx\n"
     ]
    },
    {
     "data": {
      "text/plain": "  0%|          | 0/5 [00:00<?, ?it/s]",
      "application/vnd.jupyter.widget-view+json": {
       "version_major": 2,
       "version_minor": 0,
       "model_id": "fd5736b70e3a4177bcc38d32601e9bbb"
      }
     },
     "metadata": {},
     "output_type": "display_data"
    },
    {
     "name": "stdout",
     "output_type": "stream",
     "text": [
      "Model file: mtl_i118_g8_f_o1.h5\n",
      "Location: .\\Experiments\\colab\\models\\mtl_i118_g8_f_o1\n",
      "Xscaler Min[0]: 3519.98323631286\n",
      "Xscaler Max[0]: 561182.0\n",
      "338/338 [==============================] - 1s 3ms/step\n",
      "Model file: mtl_i118_lstm8_f_o1.h5\n",
      "Location: .\\Experiments\\colab\\models\\mtl_i118_lstm8_f_o1\n",
      "Xscaler Min[0]: 3519.98323631286\n",
      "Xscaler Max[0]: 561182.0\n",
      "338/338 [==============================] - 1s 3ms/step\n",
      "Model file: mtl_i118_residual_gru_8_2.h5\n",
      "Location: .\\Experiments\\colab\\models\\mtl_i118_residual_gru_8_2\n",
      "Xscaler Min[0]: 3519.98323631286\n",
      "Xscaler Max[0]: 561182.0\n",
      "338/338 [==============================] - 1s 2ms/step\n",
      "Model file: mtl_i118_residual_lstm_8_2.h5\n",
      "Location: .\\Experiments\\colab\\models\\mtl_i118_residual_lstm_8_2\n",
      "Xscaler Min[0]: 3519.98323631286\n",
      "Xscaler Max[0]: 561182.0\n",
      "338/338 [==============================] - 1s 3ms/step\n",
      "Model file: mtl_i118_resnet_8_2.h5\n",
      "Location: .\\Experiments\\colab\\models\\mtl_i118_resnet_8_2\n",
      "Xscaler Min[0]: 3519.98323631286\n",
      "Xscaler Max[0]: 561182.0\n",
      "338/338 [==============================] - 1s 2ms/step\n",
      "Data file: dsm2_ann_inputs_rsacplus15day.xlsx\n"
     ]
    },
    {
     "data": {
      "text/plain": "  0%|          | 0/5 [00:00<?, ?it/s]",
      "application/vnd.jupyter.widget-view+json": {
       "version_major": 2,
       "version_minor": 0,
       "model_id": "a2b173f8c86540c9ab1972c80a8e4ccf"
      }
     },
     "metadata": {},
     "output_type": "display_data"
    },
    {
     "name": "stdout",
     "output_type": "stream",
     "text": [
      "Model file: mtl_i118_g8_f_o1.h5\n",
      "Location: .\\Experiments\\colab\\models\\mtl_i118_g8_f_o1\n",
      "Xscaler Min[0]: 3519.98323631286\n",
      "Xscaler Max[0]: 561182.0\n",
      "338/338 [==============================] - 1s 3ms/step\n",
      "Model file: mtl_i118_lstm8_f_o1.h5\n",
      "Location: .\\Experiments\\colab\\models\\mtl_i118_lstm8_f_o1\n",
      "Xscaler Min[0]: 3519.98323631286\n",
      "Xscaler Max[0]: 561182.0\n",
      "338/338 [==============================] - 1s 3ms/step\n",
      "Model file: mtl_i118_residual_gru_8_2.h5\n",
      "Location: .\\Experiments\\colab\\models\\mtl_i118_residual_gru_8_2\n",
      "Xscaler Min[0]: 3519.98323631286\n",
      "Xscaler Max[0]: 561182.0\n",
      "338/338 [==============================] - 1s 2ms/step\n",
      "Model file: mtl_i118_residual_lstm_8_2.h5\n",
      "Location: .\\Experiments\\colab\\models\\mtl_i118_residual_lstm_8_2\n",
      "Xscaler Min[0]: 3519.98323631286\n",
      "Xscaler Max[0]: 561182.0\n",
      "338/338 [==============================] - 1s 3ms/step\n",
      "Model file: mtl_i118_resnet_8_2.h5\n",
      "Location: .\\Experiments\\colab\\models\\mtl_i118_resnet_8_2\n",
      "Xscaler Min[0]: 3519.98323631286\n",
      "Xscaler Max[0]: 561182.0\n",
      "338/338 [==============================] - 1s 2ms/step\n",
      "Data file: dsm2_ann_inputs_rsacplus20pct.xlsx\n"
     ]
    },
    {
     "data": {
      "text/plain": "  0%|          | 0/5 [00:00<?, ?it/s]",
      "application/vnd.jupyter.widget-view+json": {
       "version_major": 2,
       "version_minor": 0,
       "model_id": "7b0555b25ffe4a1b976c53edd078c174"
      }
     },
     "metadata": {},
     "output_type": "display_data"
    },
    {
     "name": "stdout",
     "output_type": "stream",
     "text": [
      "Model file: mtl_i118_g8_f_o1.h5\n",
      "Location: .\\Experiments\\colab\\models\\mtl_i118_g8_f_o1\n",
      "Xscaler Min[0]: 3519.98323631286\n",
      "Xscaler Max[0]: 561182.0\n",
      "338/338 [==============================] - 1s 3ms/step\n",
      "Model file: mtl_i118_lstm8_f_o1.h5\n",
      "Location: .\\Experiments\\colab\\models\\mtl_i118_lstm8_f_o1\n",
      "Xscaler Min[0]: 3519.98323631286\n",
      "Xscaler Max[0]: 561182.0\n",
      "338/338 [==============================] - 1s 3ms/step\n",
      "Model file: mtl_i118_residual_gru_8_2.h5\n",
      "Location: .\\Experiments\\colab\\models\\mtl_i118_residual_gru_8_2\n",
      "Xscaler Min[0]: 3519.98323631286\n",
      "Xscaler Max[0]: 561182.0\n",
      "338/338 [==============================] - 1s 3ms/step\n",
      "Model file: mtl_i118_residual_lstm_8_2.h5\n",
      "Location: .\\Experiments\\colab\\models\\mtl_i118_residual_lstm_8_2\n",
      "Xscaler Min[0]: 3519.98323631286\n",
      "Xscaler Max[0]: 561182.0\n",
      "338/338 [==============================] - 1s 3ms/step\n",
      "Model file: mtl_i118_resnet_8_2.h5\n",
      "Location: .\\Experiments\\colab\\models\\mtl_i118_resnet_8_2\n",
      "Xscaler Min[0]: 3519.98323631286\n",
      "Xscaler Max[0]: 561182.0\n",
      "338/338 [==============================] - 1s 2ms/step\n",
      "Data file: dsm2_ann_inputs_rsanminus15day.xlsx\n"
     ]
    },
    {
     "data": {
      "text/plain": "  0%|          | 0/5 [00:00<?, ?it/s]",
      "application/vnd.jupyter.widget-view+json": {
       "version_major": 2,
       "version_minor": 0,
       "model_id": "ea0735d4fc7d4ae296cdf4db99a777e3"
      }
     },
     "metadata": {},
     "output_type": "display_data"
    },
    {
     "name": "stdout",
     "output_type": "stream",
     "text": [
      "Model file: mtl_i118_g8_f_o1.h5\n",
      "Location: .\\Experiments\\colab\\models\\mtl_i118_g8_f_o1\n",
      "Xscaler Min[0]: 3519.98323631286\n",
      "Xscaler Max[0]: 561182.0\n",
      "338/338 [==============================] - 1s 3ms/step\n",
      "Model file: mtl_i118_lstm8_f_o1.h5\n",
      "Location: .\\Experiments\\colab\\models\\mtl_i118_lstm8_f_o1\n",
      "Xscaler Min[0]: 3519.98323631286\n",
      "Xscaler Max[0]: 561182.0\n",
      "338/338 [==============================] - 1s 4ms/step\n",
      "Model file: mtl_i118_residual_gru_8_2.h5\n",
      "Location: .\\Experiments\\colab\\models\\mtl_i118_residual_gru_8_2\n",
      "Xscaler Min[0]: 3519.98323631286\n",
      "Xscaler Max[0]: 561182.0\n",
      "338/338 [==============================] - 1s 2ms/step\n",
      "Model file: mtl_i118_residual_lstm_8_2.h5\n",
      "Location: .\\Experiments\\colab\\models\\mtl_i118_residual_lstm_8_2\n",
      "Xscaler Min[0]: 3519.98323631286\n",
      "Xscaler Max[0]: 561182.0\n",
      "338/338 [==============================] - 1s 3ms/step\n",
      "Model file: mtl_i118_resnet_8_2.h5\n",
      "Location: .\\Experiments\\colab\\models\\mtl_i118_resnet_8_2\n",
      "Xscaler Min[0]: 3519.98323631286\n",
      "Xscaler Max[0]: 561182.0\n",
      "338/338 [==============================] - 1s 2ms/step\n",
      "Data file: dsm2_ann_inputs_rsanminus20pct.xlsx\n"
     ]
    },
    {
     "data": {
      "text/plain": "  0%|          | 0/5 [00:00<?, ?it/s]",
      "application/vnd.jupyter.widget-view+json": {
       "version_major": 2,
       "version_minor": 0,
       "model_id": "eca9c390d845412ebf0e9c2b610ad24a"
      }
     },
     "metadata": {},
     "output_type": "display_data"
    },
    {
     "name": "stdout",
     "output_type": "stream",
     "text": [
      "Model file: mtl_i118_g8_f_o1.h5\n",
      "Location: .\\Experiments\\colab\\models\\mtl_i118_g8_f_o1\n",
      "Xscaler Min[0]: 3519.98323631286\n",
      "Xscaler Max[0]: 561182.0\n",
      "338/338 [==============================] - 1s 3ms/step\n",
      "Model file: mtl_i118_lstm8_f_o1.h5\n",
      "Location: .\\Experiments\\colab\\models\\mtl_i118_lstm8_f_o1\n",
      "Xscaler Min[0]: 3519.98323631286\n",
      "Xscaler Max[0]: 561182.0\n",
      "338/338 [==============================] - 1s 3ms/step\n",
      "Model file: mtl_i118_residual_gru_8_2.h5\n",
      "Location: .\\Experiments\\colab\\models\\mtl_i118_residual_gru_8_2\n",
      "Xscaler Min[0]: 3519.98323631286\n",
      "Xscaler Max[0]: 561182.0\n",
      "338/338 [==============================] - 1s 2ms/step\n",
      "Model file: mtl_i118_residual_lstm_8_2.h5\n",
      "Location: .\\Experiments\\colab\\models\\mtl_i118_residual_lstm_8_2\n",
      "Xscaler Min[0]: 3519.98323631286\n",
      "Xscaler Max[0]: 561182.0\n",
      "338/338 [==============================] - 1s 3ms/step\n",
      "Model file: mtl_i118_resnet_8_2.h5\n",
      "Location: .\\Experiments\\colab\\models\\mtl_i118_resnet_8_2\n",
      "Xscaler Min[0]: 3519.98323631286\n",
      "Xscaler Max[0]: 561182.0\n",
      "338/338 [==============================] - 1s 2ms/step\n",
      "Data file: dsm2_ann_inputs_rsanplus15day.xlsx\n"
     ]
    },
    {
     "data": {
      "text/plain": "  0%|          | 0/5 [00:00<?, ?it/s]",
      "application/vnd.jupyter.widget-view+json": {
       "version_major": 2,
       "version_minor": 0,
       "model_id": "75fe990485ac4cebaa440b879688dc25"
      }
     },
     "metadata": {},
     "output_type": "display_data"
    },
    {
     "name": "stdout",
     "output_type": "stream",
     "text": [
      "Model file: mtl_i118_g8_f_o1.h5\n",
      "Location: .\\Experiments\\colab\\models\\mtl_i118_g8_f_o1\n",
      "Xscaler Min[0]: 3519.98323631286\n",
      "Xscaler Max[0]: 561182.0\n",
      "338/338 [==============================] - 1s 3ms/step\n",
      "Model file: mtl_i118_lstm8_f_o1.h5\n",
      "Location: .\\Experiments\\colab\\models\\mtl_i118_lstm8_f_o1\n",
      "Xscaler Min[0]: 3519.98323631286\n",
      "Xscaler Max[0]: 561182.0\n",
      "338/338 [==============================] - 1s 3ms/step\n",
      "Model file: mtl_i118_residual_gru_8_2.h5\n",
      "Location: .\\Experiments\\colab\\models\\mtl_i118_residual_gru_8_2\n",
      "Xscaler Min[0]: 3519.98323631286\n",
      "Xscaler Max[0]: 561182.0\n",
      "338/338 [==============================] - 1s 2ms/step\n",
      "Model file: mtl_i118_residual_lstm_8_2.h5\n",
      "Location: .\\Experiments\\colab\\models\\mtl_i118_residual_lstm_8_2\n",
      "Xscaler Min[0]: 3519.98323631286\n",
      "Xscaler Max[0]: 561182.0\n",
      "338/338 [==============================] - 1s 2ms/step\n",
      "Model file: mtl_i118_resnet_8_2.h5\n",
      "Location: .\\Experiments\\colab\\models\\mtl_i118_resnet_8_2\n",
      "Xscaler Min[0]: 3519.98323631286\n",
      "Xscaler Max[0]: 561182.0\n",
      "338/338 [==============================] - 1s 2ms/step\n",
      "Data file: dsm2_ann_inputs_rsanplus20pct.xlsx\n"
     ]
    },
    {
     "data": {
      "text/plain": "  0%|          | 0/5 [00:00<?, ?it/s]",
      "application/vnd.jupyter.widget-view+json": {
       "version_major": 2,
       "version_minor": 0,
       "model_id": "068cf9000d1a4c46b9a3e21472c0213f"
      }
     },
     "metadata": {},
     "output_type": "display_data"
    },
    {
     "name": "stdout",
     "output_type": "stream",
     "text": [
      "Model file: mtl_i118_g8_f_o1.h5\n",
      "Location: .\\Experiments\\colab\\models\\mtl_i118_g8_f_o1\n",
      "Xscaler Min[0]: 3519.98323631286\n",
      "Xscaler Max[0]: 561182.0\n",
      "338/338 [==============================] - 1s 3ms/step\n",
      "Model file: mtl_i118_lstm8_f_o1.h5\n",
      "Location: .\\Experiments\\colab\\models\\mtl_i118_lstm8_f_o1\n",
      "Xscaler Min[0]: 3519.98323631286\n",
      "Xscaler Max[0]: 561182.0\n",
      "338/338 [==============================] - 1s 3ms/step\n",
      "Model file: mtl_i118_residual_gru_8_2.h5\n",
      "Location: .\\Experiments\\colab\\models\\mtl_i118_residual_gru_8_2\n",
      "Xscaler Min[0]: 3519.98323631286\n",
      "Xscaler Max[0]: 561182.0\n",
      "338/338 [==============================] - 1s 2ms/step\n",
      "Model file: mtl_i118_residual_lstm_8_2.h5\n",
      "Location: .\\Experiments\\colab\\models\\mtl_i118_residual_lstm_8_2\n",
      "Xscaler Min[0]: 3519.98323631286\n",
      "Xscaler Max[0]: 561182.0\n",
      "338/338 [==============================] - 1s 2ms/step\n",
      "Model file: mtl_i118_resnet_8_2.h5\n",
      "Location: .\\Experiments\\colab\\models\\mtl_i118_resnet_8_2\n",
      "Xscaler Min[0]: 3519.98323631286\n",
      "Xscaler Max[0]: 561182.0\n",
      "338/338 [==============================] - 1s 2ms/step\n",
      "Data file: dsm2_ann_inputs_smscg0.xlsx\n"
     ]
    },
    {
     "data": {
      "text/plain": "  0%|          | 0/5 [00:00<?, ?it/s]",
      "application/vnd.jupyter.widget-view+json": {
       "version_major": 2,
       "version_minor": 0,
       "model_id": "83b6ac30e29f496b9474aa870d5169d1"
      }
     },
     "metadata": {},
     "output_type": "display_data"
    },
    {
     "name": "stdout",
     "output_type": "stream",
     "text": [
      "Model file: mtl_i118_g8_f_o1.h5\n",
      "Location: .\\Experiments\\colab\\models\\mtl_i118_g8_f_o1\n",
      "Xscaler Min[0]: 3519.98323631286\n",
      "Xscaler Max[0]: 561182.0\n",
      "338/338 [==============================] - 1s 3ms/step\n",
      "Model file: mtl_i118_lstm8_f_o1.h5\n",
      "Location: .\\Experiments\\colab\\models\\mtl_i118_lstm8_f_o1\n",
      "Xscaler Min[0]: 3519.98323631286\n",
      "Xscaler Max[0]: 561182.0\n",
      "338/338 [==============================] - 1s 3ms/step\n",
      "Model file: mtl_i118_residual_gru_8_2.h5\n",
      "Location: .\\Experiments\\colab\\models\\mtl_i118_residual_gru_8_2\n",
      "Xscaler Min[0]: 3519.98323631286\n",
      "Xscaler Max[0]: 561182.0\n",
      "338/338 [==============================] - 1s 2ms/step\n",
      "Model file: mtl_i118_residual_lstm_8_2.h5\n",
      "Location: .\\Experiments\\colab\\models\\mtl_i118_residual_lstm_8_2\n",
      "Xscaler Min[0]: 3519.98323631286\n",
      "Xscaler Max[0]: 561182.0\n",
      "338/338 [==============================] - 1s 2ms/step\n",
      "Model file: mtl_i118_resnet_8_2.h5\n",
      "Location: .\\Experiments\\colab\\models\\mtl_i118_resnet_8_2\n",
      "Xscaler Min[0]: 3519.98323631286\n",
      "Xscaler Max[0]: 561182.0\n",
      "338/338 [==============================] - 1s 2ms/step\n",
      "Data file: dsm2_ann_inputs_smscg1.xlsx\n"
     ]
    },
    {
     "data": {
      "text/plain": "  0%|          | 0/5 [00:00<?, ?it/s]",
      "application/vnd.jupyter.widget-view+json": {
       "version_major": 2,
       "version_minor": 0,
       "model_id": "7d241793284d4f11be4982ba74122567"
      }
     },
     "metadata": {},
     "output_type": "display_data"
    },
    {
     "name": "stdout",
     "output_type": "stream",
     "text": [
      "Model file: mtl_i118_g8_f_o1.h5\n",
      "Location: .\\Experiments\\colab\\models\\mtl_i118_g8_f_o1\n",
      "Xscaler Min[0]: 3519.98323631286\n",
      "Xscaler Max[0]: 561182.0\n",
      "338/338 [==============================] - 1s 3ms/step\n",
      "Model file: mtl_i118_lstm8_f_o1.h5\n",
      "Location: .\\Experiments\\colab\\models\\mtl_i118_lstm8_f_o1\n",
      "Xscaler Min[0]: 3519.98323631286\n",
      "Xscaler Max[0]: 561182.0\n",
      "338/338 [==============================] - 1s 3ms/step\n",
      "Model file: mtl_i118_residual_gru_8_2.h5\n",
      "Location: .\\Experiments\\colab\\models\\mtl_i118_residual_gru_8_2\n",
      "Xscaler Min[0]: 3519.98323631286\n",
      "Xscaler Max[0]: 561182.0\n",
      "338/338 [==============================] - 1s 2ms/step\n",
      "Model file: mtl_i118_residual_lstm_8_2.h5\n",
      "Location: .\\Experiments\\colab\\models\\mtl_i118_residual_lstm_8_2\n",
      "Xscaler Min[0]: 3519.98323631286\n",
      "Xscaler Max[0]: 561182.0\n",
      "338/338 [==============================] - 1s 2ms/step\n",
      "Model file: mtl_i118_resnet_8_2.h5\n",
      "Location: .\\Experiments\\colab\\models\\mtl_i118_resnet_8_2\n",
      "Xscaler Min[0]: 3519.98323631286\n",
      "Xscaler Max[0]: 561182.0\n",
      "338/338 [==============================] - 1s 2ms/step\n",
      "Data file: observed_data_daily.xlsx\n"
     ]
    },
    {
     "data": {
      "text/plain": "  0%|          | 0/5 [00:00<?, ?it/s]",
      "application/vnd.jupyter.widget-view+json": {
       "version_major": 2,
       "version_minor": 0,
       "model_id": "3fa8051151274e53af2df34b2cd8833e"
      }
     },
     "metadata": {},
     "output_type": "display_data"
    },
    {
     "name": "stdout",
     "output_type": "stream",
     "text": [
      "Model file: mtl_i118_g8_f_o1.h5\n",
      "Location: .\\Experiments\\colab\\models\\mtl_i118_g8_f_o1\n",
      "Xscaler Min[0]: 3519.98323631286\n",
      "Xscaler Max[0]: 561182.0\n",
      "225/225 [==============================] - 1s 3ms/step\n",
      "Model file: mtl_i118_lstm8_f_o1.h5\n",
      "Location: .\\Experiments\\colab\\models\\mtl_i118_lstm8_f_o1\n",
      "Xscaler Min[0]: 3519.98323631286\n",
      "Xscaler Max[0]: 561182.0\n",
      "225/225 [==============================] - 1s 3ms/step\n",
      "Model file: mtl_i118_residual_gru_8_2.h5\n",
      "Location: .\\Experiments\\colab\\models\\mtl_i118_residual_gru_8_2\n",
      "Xscaler Min[0]: 3519.98323631286\n",
      "Xscaler Max[0]: 561182.0\n",
      "225/225 [==============================] - 1s 2ms/step\n",
      "Model file: mtl_i118_residual_lstm_8_2.h5\n",
      "Location: .\\Experiments\\colab\\models\\mtl_i118_residual_lstm_8_2\n",
      "Xscaler Min[0]: 3519.98323631286\n",
      "Xscaler Max[0]: 561182.0\n",
      "225/225 [==============================] - 1s 2ms/step\n",
      "Model file: mtl_i118_resnet_8_2.h5\n",
      "Location: .\\Experiments\\colab\\models\\mtl_i118_resnet_8_2\n",
      "Xscaler Min[0]: 3519.98323631286\n",
      "Xscaler Max[0]: 561182.0\n",
      "225/225 [==============================] - 1s 2ms/step\n",
      "Done!\n"
     ]
    }
   ],
   "source": [
    "experiments = [ \"colab\"]  #\"6years\", \"6yearsAugmented\",\n",
    "for experiment in tqdm(experiments):\n",
    "    print(\"Experiment: %s\" % experiment)\n",
    "    experiment_dir = os.path.join(local_root_path, \"Experiments\", experiment)\n",
    "\n",
    "    ndays = 118\n",
    "    window_size = 0\n",
    "    nwindows = 0\n",
    "\n",
    "    compression_opts = dict(method='zip', archive_name='out.csv')\n",
    "\n",
    "    model_dir = os.path.join(experiment_dir, \"models\")\n",
    "    model_files = [f for f in os.listdir(model_dir) if f.endswith(\".h5\")]\n",
    "\n",
    "\n",
    "    for data_file in tqdm(excel_files):\n",
    "        print(\"Data file: %s\" % data_file)\n",
    "        data_path = os.path.join(local_root_path,data_file)\n",
    "        dfinps, dfouts = annutils.read_and_split(data_path, num_sheets, observed_stations_ordered_by_median)\n",
    "\n",
    "        dfinps = annutils.create_antecedent_inputs(dfinps,ndays=ndays,window_size=window_size,nwindows=nwindows)\n",
    "        dfinps, dfouts = annutils.synchronize(dfinps, dfouts)\n",
    "\n",
    "        #get the name of the file without the extension\n",
    "        file_name = os.path.splitext(data_file)[0]\n",
    "\n",
    "        dirs = [\"input\", \"target\", \"prediction\"]\n",
    "        for dir in dirs:\n",
    "            os.makedirs(os.path.join(\"Experiments\", experiment, \"results\", dir), exist_ok=True)\n",
    "\n",
    "        input_file = os.path.join(\"Experiments\", experiment, \"results\", \"input\", file_name + \".csv\")\n",
    "        dfinps.to_csv(input_file, compression=compression_opts)\n",
    "\n",
    "        # read_in = pd.read_csv(input_file, compression=compression_opts, index_col=0)\n",
    "\n",
    "        target_file = os.path.join(\"Experiments\", experiment, \"results\", \"target\", file_name + \"_target.csv\")\n",
    "        dfouts.to_csv(target_file, compression=compression_opts)\n",
    "\n",
    "        for model_file in tqdm(model_files):\n",
    "            print(\"Model file: %s\" % model_file)\n",
    "            model_name = os.path.splitext(model_file)[0]\n",
    "\n",
    "            model_prediction_dir = os.path.join(experiment_dir, \"results\", \"prediction\", model_name)\n",
    "            os.makedirs(model_prediction_dir, exist_ok=True)\n",
    "\n",
    "            location = os.path.join(model_dir, model_name)\n",
    "            print(\"Location: %s\" % location)\n",
    "            #prediction = predict(location, dfinps, dfouts.columns)\n",
    "            model=keras.models.load_model('%s.h5'%location,custom_objects={\"mse_loss_masked\": mse_loss_masked})\n",
    "            xscaler,yscaler=joblib.load('%s_xyscaler.dump'%location)\n",
    "            print(\"Xscaler Min[0]: %s\" % xscaler.min_val[0])\n",
    "            print(\"Xscaler Max[0]: %s\" % xscaler.max_val[0])\n",
    "            scaled_input = xscaler.transform(dfinps)\n",
    "            dfx = pd.DataFrame(scaled_input, dfinps.index, columns=dfinps.columns)\n",
    "\n",
    "            yyp=model.predict(dfx, verbose=True)\n",
    "            predicted_y = yscaler.inverse_transform(yyp)\n",
    "            prediction = pd.DataFrame(predicted_y, index=dfinps.index, columns=dfouts.columns)\n",
    "            prediction_file = os.path.join(model_prediction_dir, file_name + \".csv\")\n",
    "            prediction.to_csv(prediction_file, compression=compression_opts)\n",
    "\n",
    "print(\"Done!\")"
   ],
   "metadata": {
    "collapsed": false,
    "ExecuteTime": {
     "end_time": "2023-06-27T21:39:09.020533Z",
     "start_time": "2023-06-27T21:34:40.150531Z"
    }
   }
  },
  {
   "cell_type": "code",
   "execution_count": 6,
   "outputs": [],
   "source": [
    "\n"
   ],
   "metadata": {
    "collapsed": false,
    "ExecuteTime": {
     "end_time": "2023-06-27T18:16:33.996050Z",
     "start_time": "2023-06-27T18:16:33.979052700Z"
    }
   }
  }
 ],
 "metadata": {
  "kernelspec": {
   "display_name": "Python 3",
   "language": "python",
   "name": "python3"
  },
  "language_info": {
   "codemirror_mode": {
    "name": "ipython",
    "version": 2
   },
   "file_extension": ".py",
   "mimetype": "text/x-python",
   "name": "python",
   "nbconvert_exporter": "python",
   "pygments_lexer": "ipython2",
   "version": "2.7.6"
  }
 },
 "nbformat": 4,
 "nbformat_minor": 0
}
