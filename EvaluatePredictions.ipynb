{
 "cells": [
  {
   "cell_type": "code",
   "execution_count": 3,
   "metadata": {
    "collapsed": true,
    "ExecuteTime": {
     "end_time": "2023-06-16T20:54:07.500220800Z",
     "start_time": "2023-06-16T20:54:07.495220200Z"
    }
   },
   "outputs": [],
   "source": [
    "import os\n",
    "import pickle\n",
    "import sys\n",
    "import time\n",
    "\n",
    "import matplotlib.pyplot as plt\n",
    "import numpy as np\n",
    "import pandas as pd\n",
    "import tensorflow as tf\n",
    "from sklearn.metrics import r2_score\n",
    "from tensorflow import keras\n",
    "from tensorflow.keras import layers\n",
    "from tqdm.auto import tqdm, trange\n",
    "\n",
    "tqdm.pandas()\n",
    "\n",
    "from collections import defaultdict\n",
    "\n",
    "local_root_path = \".\"\n",
    "\n",
    "sys.path.append(local_root_path)\n",
    "import annutils\n",
    "from collections import defaultdict"
   ]
  },
  {
   "cell_type": "code",
   "execution_count": 12,
   "outputs": [],
   "source": [
    "num_sheets = 9\n",
    "\n",
    "observed_stations_ordered_by_median = ['RSMKL008', 'RSAN032', 'RSAN037', 'RSAC092', 'SLTRM004', 'ROLD024',\n",
    "                                       'CHVCT000', 'RSAN018', 'CHSWP003', 'CHDMC006', 'SLDUT007', 'RSAN072',\n",
    "                                       'OLD_MID', 'RSAN058', 'ROLD059', 'RSAN007', 'RSAC081', 'SLMZU025',\n",
    "                                       'RSAC075', 'SLMZU011', 'SLSUS012', 'SLCBN002', 'RSAC064']\n",
    "\n",
    "output_stations = ['CHDMC006-CVP INTAKE', 'CHSWP003-CCFB_INTAKE', 'CHVCT000-VICTORIA INTAKE',\n",
    "                   'OLD_MID-OLD RIVER NEAR MIDDLE RIVER', 'ROLD024-OLD RIVER AT BACON ISLAND',\n",
    "                   'ROLD059-OLD RIVER AT TRACY BLVD', 'RSAC064-SACRAMENTO R AT PORT CHICAGO',\n",
    "                   'RSAC075-MALLARDISLAND', 'RSAC081-COLLINSVILLE', 'RSAC092-EMMATON',\n",
    "                   'RSAC101-SACRAMENTO R AT RIO VISTA', 'RSAN007-ANTIOCH', 'RSAN018-JERSEYPOINT',\n",
    "                   'RSAN032-SACRAMENTO R AT SAN ANDREAS LANDING', 'RSAN037-SAN JOAQUIN R AT PRISONERS POINT',\n",
    "                   'RSAN058-ROUGH AND READY ISLAND', 'RSAN072-SAN JOAQUIN R AT BRANDT BRIDGE',\n",
    "                   'RSMKL008-S FORK MOKELUMNE AT TERMINOUS', 'SLCBN002-CHADBOURNE SLOUGH NR SUNRISE DUCK CLUB',\n",
    "                   'SLDUT007-DUTCH SLOUGH', 'SLMZU011-MONTEZUMA SL AT BELDONS LANDING',\n",
    "                   'SLMZU025-MONTEZUMA SL AT NATIONAL STEEL', 'SLSUS012-SUISUN SL NEAR VOLANTI SL',\n",
    "                   'SLTRM004-THREE MILE SLOUGH NR SAN JOAQUIN R', 'SSS-STEAMBOAT SL', 'CCW-MIDDLE RIVER INTAKE',\n",
    "                   'OH4-OLD R @ HWY 4', 'SLRCK005-CCWD_Rock', 'MRU-MIDDLE RIVER AT UNDINE ROAD', 'HLL-HOLLAND TRACT',\n",
    "                   'BET-PIPER SLOUGH @ BETHEL TRACT', 'GES-SACRAMENTO R BELOW GEORGIANA SLOUGH',\n",
    "                   'NMR: N FORK MOKELUMNE R NEAR WALNUT GROVE', 'IBS-CORDELIA SLOUGH @ IBIS CLUB',\n",
    "                   'GYS-GOODYEAR SLOUGH AT MORROW ISLAND CLUB', 'BKS-SLBAR002-North Bay Aqueduct/Barker Sl']\n",
    "\n",
    "output_stations, name_mapping = annutils.read_output_stations(output_stations, observed_stations_ordered_by_median)\n",
    "\n",
    "key_stations = ['RSAC064','CCWD_Rock','CHDMC006', 'CHSWP003','RSAC092','RSAN018']\n",
    "key_station_mappings = {'CCWD Rock': 'RSL',\n",
    "                        'Middle River Intake':'MUP',\n",
    "                        'Old River Hwy 4': 'OH4',\n",
    "                        'OLD MID':'OLD_MID'}"
   ],
   "metadata": {
    "collapsed": false,
    "ExecuteTime": {
     "end_time": "2023-06-16T21:11:12.982707600Z",
     "start_time": "2023-06-16T21:11:12.968707300Z"
    }
   }
  },
  {
   "cell_type": "code",
   "execution_count": 4,
   "outputs": [],
   "source": [
    "def evaluate_sequences(target, pred, metrics,print_details=False):\n",
    "    assert len(target) == len(pred), 'Target and predicted sequence length must equal.'\n",
    "    valid_entries = target>0\n",
    "    sequence_length = np.sum(valid_entries)\n",
    "    # print('Total samples: %d, valid samples: %d' % (len(target), np.sum(valid_entries)))\n",
    "    if np.any(sequence_length == 0):\n",
    "        return {k: 0 for k in metrics}\n",
    "    target=target[valid_entries]\n",
    "    pred = pred[valid_entries]\n",
    "    SD_pred = np.sqrt( np.sum((pred-np.mean(pred)) ** 2) /(sequence_length-1))\n",
    "    SD_target = np.sqrt( np.sum((target-np.mean(target)) ** 2) /(sequence_length-1))\n",
    "\n",
    "    eval_results = defaultdict(float)\n",
    "\n",
    "    for m in metrics:\n",
    "        if m =='MSE':\n",
    "            eval_results[m] = ((target - pred)**2).mean()\n",
    "        elif m =='Bias':\n",
    "            eval_results[m] = np.sum(pred - target)/np.sum(target) * 100\n",
    "        elif m == 'R':\n",
    "            eval_results[m] = np.sum(np.abs((pred-np.mean(pred)) * (target - np.mean(target)))) / (sequence_length * SD_pred * SD_target)\n",
    "        elif m == 'RMSD':\n",
    "            eval_results[m] = np.sqrt(np.sum( ( ( pred-np.mean(pred) ) * ( target - np.mean(target) ) ) ** 2 ) / sequence_length)\n",
    "        elif m == 'NSE':\n",
    "            eval_results[m] = 1 - np.sum( ( target - pred ) ** 2 ) / np.sum( (target - np.mean(target) ) ** 2 )\n",
    "    if print_details:\n",
    "        print('(sum(pred - mean(pred)) x (target - mean(target))) =  %.4f' % np.sum((pred-np.mean(pred)) * (target - np.mean(target))))\n",
    "        print('MSE =  %.4f' % eval_results[m])\n",
    "        print('sum(pred - target) = %.4f' % np.sum(pred - target))\n",
    "        print('sum(target) = %.4f' % np.sum(target))\n",
    "        print('target standard deviation = %.6f, prediction standard deviation =%.6f' %(SD_target,SD_pred))\n",
    "    return eval_results"
   ],
   "metadata": {
    "collapsed": false,
    "ExecuteTime": {
     "end_time": "2023-06-16T20:54:29.595218200Z",
     "start_time": "2023-06-16T20:54:29.568219Z"
    }
   }
  },
  {
   "cell_type": "code",
   "execution_count": 17,
   "outputs": [
    {
     "name": "stdout",
     "output_type": "stream",
     "text": [
      "Evaluating 0 CHDMC006\n",
      "(sum(pred - mean(pred)) x (target - mean(target))) =  274026792.3418\n",
      "MSE =  0.7288\n",
      "sum(pred - target) = -157030.2967\n",
      "sum(target) = 4642344.7350\n",
      "target standard deviation = 169.762621, prediction standard deviation =171.816666\n"
     ]
    }
   ],
   "source": [
    "compression_opts = dict(method='zip', archive_name='out.csv')\n",
    "\n",
    "experiment = \"6years\"\n",
    "\n",
    "experiment_dir = os.path.join(local_root_path, \"Experiments\", experiment)\n",
    "if not os.path.exists(experiment_dir):\n",
    "    print(\"Experiment does not exist\")\n",
    "\n",
    "\n",
    "model_dir = os.path.join(experiment_dir, \"models\")\n",
    "\n",
    "model_file = \"mtl_i118_residual_lstm_8_2.h5\"\n",
    "\n",
    "model_name = os.path.splitext(model_file)[0]\n",
    "\n",
    "model_prediction_dir = os.path.join(experiment_dir, \"results\", \"prediction\", model_name)\n",
    "if not os.path.exists(model_prediction_dir):\n",
    "    print(\"model_prediction_dir does not exist\")\n",
    "\n",
    "file_name = \"dsm2_ann_inputs_base.csv\"\n",
    "prediction_file = os.path.join(model_prediction_dir, file_name)\n",
    "if not os.path.exists(prediction_file):\n",
    "    print(\"prediction_file does not exist\")\n",
    "\n",
    "file_part = os.path.splitext(file_name)[0]\n",
    "\n",
    "target_file = os.path.join(experiment_dir, \"results\", \"target\", file_part + \"_target.csv\")\n",
    "if not os.path.exists(target_file):\n",
    "    print(\"target_file does not exist\")\n",
    "\n",
    "metrics = ['MSE', 'Bias', 'R', 'RMSD', 'NSE']\n",
    "\n",
    "full_results={}\n",
    "prediction = pd.read_csv(prediction_file, compression=compression_opts, index_col=0)\n",
    "target = pd.read_csv(target_file, compression=compression_opts, index_col=0)\n",
    "\n",
    "# for ii, location in enumerate(output_stations):\n",
    "ii = 0\n",
    "location = \"CHDMC006\"\n",
    "\n",
    "print(\"Evaluating %s %s\" % (ii, location))\n",
    "\n",
    "if any([k.lower() in location.lower() for k in key_stations]):\n",
    "    print_details = True\n",
    "else:\n",
    "    print_details = False\n",
    "\n",
    "\n",
    "# compute training results\n",
    "target_for_station = target.iloc[:, ii]\n",
    "prediction_for_station = prediction.iloc[:, ii]\n",
    "train_results = evaluate_sequences(target_for_station, prediction_for_station, metrics, print_details=print_details)\n",
    "train_results['R^2'] = r2_score(prediction_for_station, target_for_station)\n",
    "full_results['%s_train' %location] = train_results\n"
   ],
   "metadata": {
    "collapsed": false,
    "ExecuteTime": {
     "end_time": "2023-06-16T21:19:42.773995100Z",
     "start_time": "2023-06-16T21:19:42.612994200Z"
    }
   }
  }
 ],
 "metadata": {
  "kernelspec": {
   "display_name": "Python 3",
   "language": "python",
   "name": "python3"
  },
  "language_info": {
   "codemirror_mode": {
    "name": "ipython",
    "version": 2
   },
   "file_extension": ".py",
   "mimetype": "text/x-python",
   "name": "python",
   "nbconvert_exporter": "python",
   "pygments_lexer": "ipython2",
   "version": "2.7.6"
  }
 },
 "nbformat": 4,
 "nbformat_minor": 0
}
