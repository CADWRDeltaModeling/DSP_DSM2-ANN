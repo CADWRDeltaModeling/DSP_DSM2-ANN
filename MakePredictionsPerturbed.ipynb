{
 "cells": [
  {
   "cell_type": "markdown",
   "metadata": {},
   "source": [
    "# Setup\n"
   ]
  },
  {
   "cell_type": "code",
   "execution_count": 18,
   "metadata": {
    "ExecuteTime": {
     "end_time": "2023-06-27T18:54:32.146680300Z",
     "start_time": "2023-06-27T18:54:32.134679300Z"
    },
    "collapsed": true
   },
   "outputs": [],
   "source": [
    "import os\n",
    "import pickle\n",
    "import sys\n",
    "import time\n",
    "\n",
    "import matplotlib.pyplot as plt\n",
    "import numpy as np\n",
    "import pandas as pd\n",
    "import tensorflow as tf\n",
    "from sklearn.metrics import r2_score\n",
    "from tensorflow import keras\n",
    "from tensorflow.keras import layers\n",
    "from tqdm.auto import tqdm, trange\n",
    "\n",
    "tqdm.pandas()\n",
    "\n",
    "from collections import defaultdict\n",
    "\n",
    "local_root_path = \".\"\n",
    "\n",
    "sys.path.append(local_root_path)\n",
    "import annutils\n",
    "\n",
    "import joblib"
   ]
  },
  {
   "cell_type": "markdown",
   "metadata": {},
   "source": [
    "# excel_files"
   ]
  },
  {
   "cell_type": "code",
   "execution_count": 26,
   "metadata": {
    "ExecuteTime": {
     "end_time": "2023-06-27T18:54:37.535209100Z",
     "start_time": "2023-06-27T18:54:37.514451800Z"
    },
    "collapsed": false
   },
   "outputs": [],
   "source": [
    "\n",
    "dsp_home = r\"F:\\projects\\ann_dsp\"\n",
    "# find all the .xlsx files in the local_root_path dir\n",
    "# excel_files = [f for f in os.listdir(local_root_path) if f.endswith(\".xlsx\") and not f.startswith(\"~$\")]\n",
    "# excel_files = [r\"D:\\projects\\delta_salinity\\model\\dsm2\\DSP_DSM2_202307\\modified_bc\\anninputs\\perturbhist\\dsm2_ann_inputs_perturbhist.xlsx\"]\n",
    "excel_files = [rf\"{dsp_home}\\model\\dsm2\\DSP_DSM2_202307\\historical\\anninputs\\dsm2_ann_inputs_historical.xlsx\"]\n",
    "excel_files = [rf\"{dsp_home}\\model\\dsm2\\DSP_DSM2_202307\\latinhypercube_7\\anninputs\\lathypcub_0\\dsm2_ann_inputs_lathypcub_0.xlsx\"]\n",
    "excel_files = [rf\"{dsp_home}\\model\\dsm2\\DSP_DSM2_202307\\historical\\anninputs\\dsm2_ann_inputs_historical.xlsx\"]\n",
    "\n",
    "#excel_files = [rf\"{dsp_home}\\model\\dsm2\\DSP_DSM2_202307\\latinhypercube_7\\anninputs\\lathypcub_{exp}\\dsm2_ann_inputs_lathypcub_{exp}.xlsx\" for exp in [2]]\n",
    "#2 3 5 1\n",
    "\n"
   ]
  },
  {
   "attachments": {},
   "cell_type": "markdown",
   "metadata": {
    "collapsed": false
   },
   "source": [
    "# Setup stations\n",
    "In order to turn the excel sheets into inputs we can predict on we need to setup"
   ]
  },
  {
   "cell_type": "code",
   "execution_count": 27,
   "metadata": {
    "ExecuteTime": {
     "end_time": "2023-06-27T18:54:40.283853600Z",
     "start_time": "2023-06-27T18:54:40.275836Z"
    },
    "collapsed": false
   },
   "outputs": [],
   "source": [
    "num_sheets = 9\n",
    "\n",
    "observed_stations_ordered_by_median = ['RSMKL008', 'RSAN032', 'RSAN037', 'RSAC092', 'SLTRM004', 'ROLD024',\n",
    "                                       'CHVCT000', 'RSAN018', 'CHSWP003', 'CHDMC006', 'SLDUT007', 'RSAN072',\n",
    "                                       'OLD_MID', 'RSAN058', 'ROLD059', 'RSAN007', 'RSAC081', 'SLMZU025',\n",
    "                                       'RSAC075', 'SLMZU011', 'SLSUS012', 'SLCBN002', 'RSAC064']\n",
    "\n",
    "output_stations = ['CHDMC006-CVP INTAKE', 'CHSWP003-CCFB_INTAKE', 'CHVCT000-VICTORIA INTAKE',\n",
    "                   'OLD_MID-OLD RIVER NEAR MIDDLE RIVER', 'ROLD024-OLD RIVER AT BACON ISLAND',\n",
    "                   'ROLD059-OLD RIVER AT TRACY BLVD', 'RSAC064-SACRAMENTO R AT PORT CHICAGO',\n",
    "                   'RSAC075-MALLARDISLAND', 'RSAC081-COLLINSVILLE', 'RSAC092-EMMATON',\n",
    "                   'RSAC101-SACRAMENTO R AT RIO VISTA', 'RSAN007-ANTIOCH', 'RSAN018-JERSEYPOINT',\n",
    "                   'RSAN032-SACRAMENTO R AT SAN ANDREAS LANDING', 'RSAN037-SAN JOAQUIN R AT PRISONERS POINT',\n",
    "                   'RSAN058-ROUGH AND READY ISLAND', 'RSAN072-SAN JOAQUIN R AT BRANDT BRIDGE',\n",
    "                   'RSMKL008-S FORK MOKELUMNE AT TERMINOUS', 'SLCBN002-CHADBOURNE SLOUGH NR SUNRISE DUCK CLUB',\n",
    "                   'SLDUT007-DUTCH SLOUGH', 'SLMZU011-MONTEZUMA SL AT BELDONS LANDING',\n",
    "                   'SLMZU025-MONTEZUMA SL AT NATIONAL STEEL', 'SLSUS012-SUISUN SL NEAR VOLANTI SL',\n",
    "                   'SLTRM004-THREE MILE SLOUGH NR SAN JOAQUIN R', 'SSS-STEAMBOAT SL', 'CCW-MIDDLE RIVER INTAKE',\n",
    "                   'OH4-OLD R @ HWY 4', 'SLRCK005-CCWD_Rock', 'MRU-MIDDLE RIVER AT UNDINE ROAD', 'HLL-HOLLAND TRACT',\n",
    "                   'BET-PIPER SLOUGH @ BETHEL TRACT', 'GES-SACRAMENTO R BELOW GEORGIANA SLOUGH',\n",
    "                   'NMR: N FORK MOKELUMNE R NEAR WALNUT GROVE', 'IBS-CORDELIA SLOUGH @ IBIS CLUB',\n",
    "                   'GYS-GOODYEAR SLOUGH AT MORROW ISLAND CLUB', 'BKS-SLBAR002-North Bay Aqueduct/Barker Sl']\n",
    "\n",
    "output_stations, name_mapping = annutils.read_output_stations(output_stations, observed_stations_ordered_by_median)"
   ]
  },
  {
   "cell_type": "markdown",
   "metadata": {},
   "source": [
    "# mse_loss_masked def"
   ]
  },
  {
   "cell_type": "code",
   "execution_count": 28,
   "metadata": {
    "ExecuteTime": {
     "end_time": "2023-06-27T18:54:46.785824200Z",
     "start_time": "2023-06-27T18:54:46.781823Z"
    },
    "collapsed": false
   },
   "outputs": [],
   "source": [
    "def mse_loss_masked(y_true, y_pred):\n",
    "    squared_diff = tf.reduce_sum(tf.math.squared_difference(y_pred[y_true > 0], y_true[y_true > 0]))\n",
    "    return squared_diff / (tf.reduce_sum(tf.cast(y_true > 0, tf.float32)) + 0.01)"
   ]
  },
  {
   "cell_type": "markdown",
   "metadata": {},
   "source": [
    "# predict definitions"
   ]
  },
  {
   "cell_type": "code",
   "execution_count": 29,
   "metadata": {
    "ExecuteTime": {
     "end_time": "2023-06-27T18:54:50.822869600Z",
     "start_time": "2023-06-27T18:54:50.817511900Z"
    },
    "collapsed": false
   },
   "outputs": [],
   "source": [
    "def predict(location, df_input, output_columns):\n",
    "    model=keras.models.load_model('%s.h5'%location,custom_objects={\"mse_loss_masked\": mse_loss_masked})\n",
    "    xscaler,yscaler=joblib.load('%s_xyscaler.dump'%location)\n",
    "    return predict_with_model(model, xscaler, yscaler, df_input, output_columns)\n",
    "\n",
    "def predict_with_model(model, xscaler, yscaler, df_input, output_columns):\n",
    "    dfx = pd.DataFrame(xscaler.transform(df_input), df_input.index, columns=df_input.columns)\n",
    "\n",
    "    yyp=model.predict(dfx, verbose=True)\n",
    "    predicted_y = yscaler.inverse_transform(yyp)\n",
    "    return pd.DataFrame(predicted_y, index=df_input.index, columns=output_columns)"
   ]
  },
  {
   "cell_type": "markdown",
   "metadata": {},
   "source": [
    "# Run predictions"
   ]
  },
  {
   "cell_type": "code",
   "execution_count": 36,
   "metadata": {
    "ExecuteTime": {
     "end_time": "2023-06-27T21:39:09.020533Z",
     "start_time": "2023-06-27T21:34:40.150531Z"
    },
    "collapsed": false
   },
   "outputs": [
    {
     "name": "stderr",
     "output_type": "stream",
     "text": [
      "  0%|          | 0/2 [00:00<?, ?it/s]"
     ]
    },
    {
     "name": "stdout",
     "output_type": "stream",
     "text": [
      "Experiment: colab_reduced\n",
      "Local root:  .\n"
     ]
    },
    {
     "name": "stderr",
     "output_type": "stream",
     "text": []
    },
    {
     "name": "stdout",
     "output_type": "stream",
     "text": [
      "Data file: F:\\projects\\ann_dsp\\model\\dsm2\\DSP_DSM2_202307\\historical\\anninputs\\dsm2_ann_inputs_historical.xlsx\n",
      "Col northern_flow\n",
      "Col sjr_flow\n",
      "Col exports\n",
      "Col dcc_op\n",
      "Col div+seep-drain_dcd+smcd\n",
      "Col daily_max-min\n",
      "Col sjr_vernalis_ec\n",
      "Col sac_greens_ec\n"
     ]
    },
    {
     "name": "stderr",
     "output_type": "stream",
     "text": [
      "\n",
      "\u001b[A"
     ]
    },
    {
     "name": "stdout",
     "output_type": "stream",
     "text": [
      "Model file: mtl_i118_lstm14_lstm14_f_o1.h5\n",
      "Location: .\\Experiments\\colab_reduced\\models\\mtl_i118_lstm14_lstm14_f_o1\n",
      "Xscaler Min[0]: 3519.98323631286\n",
      "Xscaler Max[0]: 100000.0\n",
      "scaled input\n",
      "/HIST+GATE/RSAC128/POS/01JAN1953 - 01JAN2020/IR-YEAR/DWR-DMS-DSM2/_lag1           NaN\n",
      "/HIST+GATE/RSAC128/POS/01JAN1953 - 01JAN2020/IR-YEAR/DWR-DMS-DSM2/_lag10          NaN\n",
      "/HIST+GATE/RSAC128/POS/01JAN1953 - 01JAN2020/IR-YEAR/DWR-DMS-DSM2/_lag100         NaN\n",
      "/HIST+GATE/RSAC128/POS/01JAN1953 - 01JAN2020/IR-YEAR/DWR-DMS-DSM2/_lag101         NaN\n",
      "/HIST+GATE/RSAC128/POS/01JAN1953 - 01JAN2020/IR-YEAR/DWR-DMS-DSM2/_lag102         NaN\n",
      "                                                                               ...   \n",
      "sjr_vernalis_ec_lag95                                                        0.681067\n",
      "sjr_vernalis_ec_lag96                                                        0.644854\n",
      "sjr_vernalis_ec_lag97                                                        0.672808\n",
      "sjr_vernalis_ec_lag98                                                        0.672808\n",
      "sjr_vernalis_ec_lag99                                                        0.665184\n",
      "Name: 1990-04-28 00:00:00, Length: 1062, dtype: float64\n",
      "362/362 [==============================] - 9s 23ms/step\n"
     ]
    },
    {
     "name": "stderr",
     "output_type": "stream",
     "text": [
      "\n",
      "100%|██████████| 1/1 [00:11<00:00, 11.06s/it]\n",
      "100%|██████████| 1/1 [00:30<00:00, 30.31s/it]\n",
      " 50%|█████     | 1/2 [00:30<00:30, 30.31s/it]"
     ]
    },
    {
     "name": "stdout",
     "output_type": "stream",
     "text": [
      "prediction\n",
      "            CHDMC006  CHSWP003  CHVCT000  OLD_MID  ROLD024  ROLD059  RSAC064  \\\n",
      "1990-04-28       NaN       NaN       NaN      NaN      NaN      NaN      NaN   \n",
      "1990-04-29       NaN       NaN       NaN      NaN      NaN      NaN      NaN   \n",
      "1990-04-30       NaN       NaN       NaN      NaN      NaN      NaN      NaN   \n",
      "1990-05-01       NaN       NaN       NaN      NaN      NaN      NaN      NaN   \n",
      "1990-05-02       NaN       NaN       NaN      NaN      NaN      NaN      NaN   \n",
      "...              ...       ...       ...      ...      ...      ...      ...   \n",
      "2021-12-26       NaN       NaN       NaN      NaN      NaN      NaN      NaN   \n",
      "2021-12-27       NaN       NaN       NaN      NaN      NaN      NaN      NaN   \n",
      "2021-12-28       NaN       NaN       NaN      NaN      NaN      NaN      NaN   \n",
      "2021-12-29       NaN       NaN       NaN      NaN      NaN      NaN      NaN   \n",
      "2021-12-30       NaN       NaN       NaN      NaN      NaN      NaN      NaN   \n",
      "\n",
      "            RSAC075  RSAC081  RSAC092  ...  RSAN037  RSAN058  RSAN072  \\\n",
      "1990-04-28      NaN      NaN      NaN  ...      NaN      NaN      NaN   \n",
      "1990-04-29      NaN      NaN      NaN  ...      NaN      NaN      NaN   \n",
      "1990-04-30      NaN      NaN      NaN  ...      NaN      NaN      NaN   \n",
      "1990-05-01      NaN      NaN      NaN  ...      NaN      NaN      NaN   \n",
      "1990-05-02      NaN      NaN      NaN  ...      NaN      NaN      NaN   \n",
      "...             ...      ...      ...  ...      ...      ...      ...   \n",
      "2021-12-26      NaN      NaN      NaN  ...      NaN      NaN      NaN   \n",
      "2021-12-27      NaN      NaN      NaN  ...      NaN      NaN      NaN   \n",
      "2021-12-28      NaN      NaN      NaN  ...      NaN      NaN      NaN   \n",
      "2021-12-29      NaN      NaN      NaN  ...      NaN      NaN      NaN   \n",
      "2021-12-30      NaN      NaN      NaN  ...      NaN      NaN      NaN   \n",
      "\n",
      "            RSMKL008  SLCBN002  SLDUT007  SLMZU011  SLMZU025  SLSUS012  \\\n",
      "1990-04-28       NaN       NaN       NaN       NaN       NaN       NaN   \n",
      "1990-04-29       NaN       NaN       NaN       NaN       NaN       NaN   \n",
      "1990-04-30       NaN       NaN       NaN       NaN       NaN       NaN   \n",
      "1990-05-01       NaN       NaN       NaN       NaN       NaN       NaN   \n",
      "1990-05-02       NaN       NaN       NaN       NaN       NaN       NaN   \n",
      "...              ...       ...       ...       ...       ...       ...   \n",
      "2021-12-26       NaN       NaN       NaN       NaN       NaN       NaN   \n",
      "2021-12-27       NaN       NaN       NaN       NaN       NaN       NaN   \n",
      "2021-12-28       NaN       NaN       NaN       NaN       NaN       NaN   \n",
      "2021-12-29       NaN       NaN       NaN       NaN       NaN       NaN   \n",
      "2021-12-30       NaN       NaN       NaN       NaN       NaN       NaN   \n",
      "\n",
      "            SLTRM004  \n",
      "1990-04-28       NaN  \n",
      "1990-04-29       NaN  \n",
      "1990-04-30       NaN  \n",
      "1990-05-01       NaN  \n",
      "1990-05-02       NaN  \n",
      "...              ...  \n",
      "2021-12-26       NaN  \n",
      "2021-12-27       NaN  \n",
      "2021-12-28       NaN  \n",
      "2021-12-29       NaN  \n",
      "2021-12-30       NaN  \n",
      "\n",
      "[11570 rows x 23 columns]\n",
      "Writing to .\\Experiments\\colab_reduced\\results\\prediction\\mtl_i118_lstm14_lstm14_f_o1\\dsm2_ann_inputs_historical.csv\n",
      "Experiment: latinhypercube_7\n",
      "Local root:  .\n"
     ]
    },
    {
     "name": "stderr",
     "output_type": "stream",
     "text": []
    },
    {
     "name": "stdout",
     "output_type": "stream",
     "text": [
      "Data file: F:\\projects\\ann_dsp\\model\\dsm2\\DSP_DSM2_202307\\historical\\anninputs\\dsm2_ann_inputs_historical.xlsx\n",
      "Col northern_flow\n",
      "Col sjr_flow\n",
      "Col exports\n",
      "Col dcc_op\n",
      "Col div+seep-drain_dcd+smcd\n",
      "Col daily_max-min\n",
      "Col sjr_vernalis_ec\n",
      "Col sac_greens_ec\n"
     ]
    },
    {
     "name": "stderr",
     "output_type": "stream",
     "text": [
      "\n",
      "\u001b[A"
     ]
    },
    {
     "name": "stdout",
     "output_type": "stream",
     "text": [
      "Model file: mtl_i118_lstm14_lstm14_f_o1.h5\n",
      "Location: .\\Experiments\\latinhypercube_7\\models\\mtl_i118_lstm14_lstm14_f_o1\n",
      "Xscaler Min[0]: 4594.38\n",
      "Xscaler Max[0]: 100000.0\n",
      "scaled input\n",
      "northern_flow_lag1                0.073975\n",
      "sjr_flow_lag1                     0.040157\n",
      "exports_lag1                      0.584227\n",
      "dcc_op_lag1                       1.000000\n",
      "div+seep-drain_dcd+smcd_lag1      0.893104\n",
      "                                    ...   \n",
      "dcc_op_lag118                     1.000000\n",
      "div+seep-drain_dcd+smcd_lag118    0.849951\n",
      "daily_max-min_lag118              0.450271\n",
      "sjr_vernalis_ec_lag118            0.878216\n",
      "sac_greens_ec_lag118              0.301835\n",
      "Name: 1990-04-28 00:00:00, Length: 944, dtype: float64\n",
      "362/362 [==============================] - 9s 23ms/step\n",
      "prediction\n",
      "              CHDMC006    CHSWP003    CHVCT000     OLD_MID     ROLD024  \\\n",
      "1990-04-28  739.006951  712.963004  506.881806  855.593815  875.096227   \n",
      "1990-04-29  735.341551  710.293504  505.743326  847.540738  873.177414   \n",
      "1990-04-30  738.916828  713.147235  508.027092  854.631203  874.057495   \n",
      "1990-05-01  743.073214  716.192941  510.230402  865.215753  874.246798   \n",
      "1990-05-02  755.350126  726.124121  517.354736  890.761342  878.852612   \n",
      "...                ...         ...         ...         ...         ...   \n",
      "2021-12-26  877.126106  871.424067  777.822821  848.931766  781.088539   \n",
      "2021-12-27  870.208840  866.375825  787.373265  827.957572  746.555033   \n",
      "2021-12-28  857.416170  856.032999  792.243766  788.390837  731.050812   \n",
      "2021-12-29  841.327139  842.998258  796.066539  744.049091  722.971821   \n",
      "2021-12-30  832.043572  834.893488  794.883677  720.564469  719.047238   \n",
      "\n",
      "               ROLD059       RSAC064       RSAC075      RSAC081      RSAC092  \\\n",
      "1990-04-28  859.596080  17482.514881  11626.852526  7619.205986  1916.940191   \n",
      "1990-04-29  853.303924  17498.633028  11681.350798  7673.726946  1937.481836   \n",
      "1990-04-30  860.482454  17402.596947  11587.300065  7594.538689  1908.228236   \n",
      "1990-05-01  869.976910  17312.271120  11482.614883  7504.804701  1876.082875   \n",
      "1990-05-02  892.041774  17184.552012  11303.668937  7346.270558  1820.095085   \n",
      "...                ...           ...           ...          ...          ...   \n",
      "2021-12-26  975.698471   6910.427998   1851.378315   312.086614   -94.325356   \n",
      "2021-12-27  958.063804   5468.831054   1093.810383   -48.146478  -103.057341   \n",
      "2021-12-28  927.734375   4962.820888    702.139149  -291.343609  -138.421036   \n",
      "2021-12-29  893.010472   4653.620226    438.752092  -466.705784  -173.575358   \n",
      "2021-12-30  874.245743   4698.580361    381.200687  -527.429079  -189.722718   \n",
      "\n",
      "            ...     RSAN037     RSAN058     RSAN072    RSMKL008      SLCBN002  \\\n",
      "1990-04-28  ...  530.577432  692.015304  860.554459  219.504720  11528.853430   \n",
      "1990-04-29  ...  528.869722  685.857194  852.305567  218.780772  11575.359165   \n",
      "1990-04-30  ...  530.732984  692.152531  859.651766  220.012170  11437.355666   \n",
      "1990-05-01  ...  532.519704  699.487529  870.213841  221.471132  11299.754616   \n",
      "1990-05-02  ...  538.151183  716.975575  895.124960  224.878995  11080.661303   \n",
      "...         ...         ...         ...         ...         ...           ...   \n",
      "2021-12-26  ...  457.054220  564.889747  728.265001  230.062418  11170.653716   \n",
      "2021-12-27  ...  444.755138  570.890087  707.627850  229.795643  10423.218435   \n",
      "2021-12-28  ...  443.416902  555.840482  668.079233  228.820121   9866.043637   \n",
      "2021-12-29  ...  446.703730  536.546020  625.092974  228.043837   9385.274101   \n",
      "2021-12-30  ...  447.848553  522.963441  601.895654  227.014091   9209.703672   \n",
      "\n",
      "               SLDUT007      SLMZU011     SLMZU025      SLSUS012     SLTRM004  \n",
      "1990-04-28  1496.477237  11082.233280  9424.003826  11435.422097  1083.173188  \n",
      "1990-04-29  1496.046991  11125.638244  9464.556898  11490.412593  1086.331750  \n",
      "1990-04-30  1493.566418  10977.724078  9357.911212  11355.184361  1080.066451  \n",
      "1990-05-01  1488.785543  10841.559383  9258.034396  11210.833384  1072.640716  \n",
      "1990-05-02  1484.610108  10628.967471  9102.923406  10980.405770  1061.727058  \n",
      "...                 ...           ...          ...           ...          ...  \n",
      "2021-12-26   858.078379   6201.204279  1482.102574  11388.445756   329.622324  \n",
      "2021-12-27   791.308942   5652.469812  1056.537522  10805.321328   296.814947  \n",
      "2021-12-28   752.463806   5185.850919   709.448185  10253.111636   273.906791  \n",
      "2021-12-29   727.453914   4858.776086   474.647230   9786.364480   259.444208  \n",
      "2021-12-30   715.457154   4723.866842   381.115558   9571.279552   252.735246  \n",
      "\n",
      "[11570 rows x 23 columns]\n",
      "Writing to .\\Experiments\\latinhypercube_7\\results\\prediction\\mtl_i118_lstm14_lstm14_f_o1\\dsm2_ann_inputs_historical.csv\n"
     ]
    },
    {
     "name": "stderr",
     "output_type": "stream",
     "text": [
      "\n",
      "100%|██████████| 1/1 [00:11<00:00, 11.20s/it]\n",
      "100%|██████████| 1/1 [00:29<00:00, 29.48s/it]\n",
      "100%|██████████| 2/2 [00:59<00:00, 29.90s/it]"
     ]
    },
    {
     "name": "stdout",
     "output_type": "stream",
     "text": [
      "Done!\n"
     ]
    },
    {
     "name": "stderr",
     "output_type": "stream",
     "text": [
      "\n"
     ]
    }
   ],
   "source": [
    "experiments = [ \"6yearsaugmented\"] #[\"latinhypercube_7\"]  #[\"lathypcub_regtide\"] #\"colab\",\"6years\", \"4years\",\"4years_DCC\",\"4years_SacLag\",\"4years_SacMag\",\"colab_wo2015\"\n",
    "\n",
    "experiments = [\"4years_cal\"]\n",
    "experiments = [\"latinhypercube_7\",\"colab_reduced\",\"4years_cal\",\"6yearsaugmented\"]\n",
    "#experiments = [\"colab_reduced\",\"latinhypercube_7\"]\n",
    "\n",
    "for experiment in tqdm(experiments):\n",
    "    print(\"Experiment: %s\" % experiment)\n",
    "    experiment_dir = os.path.join(local_root_path, \"Experiments\", experiment)\n",
    "\n",
    "    ndays = 118\n",
    "    window_size = 0\n",
    "    nwindows = 0\n",
    "\n",
    "    compression_opts = dict(method='zip', archive_name='out.csv')\n",
    "\n",
    "    model_dir = os.path.join(experiment_dir, \"models\")\n",
    "    model_files = [f for f in os.listdir(model_dir) if f.endswith(\".h5\")]\n",
    "\n",
    "    print(\"Local root: \",local_root_path)\n",
    "    for data_file in tqdm(excel_files):\n",
    "        print(\"Data file: %s\" % data_file)\n",
    "        data_path = os.path.join(local_root_path,data_file)\n",
    "        dfinps, dfouts = annutils.read_and_split(data_path, num_sheets, observed_stations_ordered_by_median)\n",
    "        for cn in dfinps.columns:\n",
    "            print(\"Col \"+cn)\n",
    "\n",
    "        dfinps = annutils.create_antecedent_inputs(dfinps,ndays=ndays,window_size=window_size,nwindows=nwindows)\n",
    "        dfinps, dfouts = annutils.synchronize(dfinps, dfouts)\n",
    "\n",
    "\n",
    "        #get the name of the file without the extension\n",
    "        # file_name = os.path.splitext(data_file)[0]\n",
    "        file_name = os.path.splitext(os.path.basename(data_file))[0]\n",
    "\n",
    "        dirs = [\"input\", \"target\", \"prediction\"]\n",
    "        for dir in dirs:\n",
    "            os.makedirs(os.path.join(\"Experiments\", experiment, \"results\", dir), exist_ok=True)\n",
    "\n",
    "        input_file = os.path.join(\"Experiments\", experiment, \"results\", \"input\", file_name + \".csv\")\n",
    "        dfinps.to_csv(input_file, compression=compression_opts)\n",
    "\n",
    "        # read_in = pd.read_csv(input_file, compression=compression_opts, index_col=0)\n",
    "\n",
    "        target_file = os.path.join(\"Experiments\", experiment, \"results\", \"target\", file_name + \"_target.csv\")\n",
    "        dfouts.to_csv(target_file, compression=compression_opts)\n",
    "\n",
    "        for model_file in tqdm(model_files):\n",
    "            print(\"Model file: %s\" % model_file)\n",
    "            model_name = os.path.splitext(model_file)[0]\n",
    "\n",
    "            model_prediction_dir = os.path.join(experiment_dir, \"results\", \"prediction\", model_name)\n",
    "            os.makedirs(model_prediction_dir, exist_ok=True)\n",
    "\n",
    "            location = os.path.join(model_dir, model_name)\n",
    "            print(\"Location: %s\" % location)\n",
    "            #prediction = predict(location, dfinps, dfouts.columns)\n",
    "            model=keras.models.load_model('%s.h5'%location,custom_objects={\"mse_loss_masked\": mse_loss_masked})\n",
    "            xscaler,yscaler=joblib.load('%s_xyscaler.dump'%location)\n",
    "            print(\"Xscaler Min[0]: %s\" % xscaler.min_val[0])\n",
    "            print(\"Xscaler Max[0]: %s\" % xscaler.max_val[0])\n",
    "            scaled_input = xscaler.transform(dfinps)\n",
    "            print(\"scaled input\")\n",
    "            print(scaled_input.iloc[0])\n",
    "            #print(scaled_input.iloc[1])\n",
    "            #print(scaled_input)\n",
    "            dfx = pd.DataFrame(scaled_input, dfinps.index, columns=dfinps.columns)\n",
    "\n",
    "            yyp=model.predict(dfx, verbose=True)\n",
    "            predicted_y = yscaler.inverse_transform(yyp)\n",
    "            prediction = pd.DataFrame(predicted_y, index=dfinps.index, columns=dfouts.columns)\n",
    "            print(\"prediction\")\n",
    "            print(prediction)\n",
    "            prediction_file = os.path.join(model_prediction_dir, file_name + \".csv\")\n",
    "            print(f\"Writing to {prediction_file}\")\n",
    "            prediction.to_csv(prediction_file, compression=compression_opts)\n",
    "\n",
    "print(\"Done!\")"
   ]
  }
 ],
 "metadata": {
  "kernelspec": {
   "display_name": "Python 3",
   "language": "python",
   "name": "python3"
  },
  "language_info": {
   "codemirror_mode": {
    "name": "ipython",
    "version": 3
   },
   "file_extension": ".py",
   "mimetype": "text/x-python",
   "name": "python",
   "nbconvert_exporter": "python",
   "pygments_lexer": "ipython3",
   "version": "3.10.12"
  }
 },
 "nbformat": 4,
 "nbformat_minor": 0
}
